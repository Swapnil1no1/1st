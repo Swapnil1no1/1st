{
  "nbformat": 4,
  "nbformat_minor": 0,
  "metadata": {
    "colab": {
      "provenance": [],
      "authorship_tag": "ABX9TyMXoV0i4SPR1EkRkslyfjoa",
      "include_colab_link": true
    },
    "kernelspec": {
      "name": "python3",
      "display_name": "Python 3"
    },
    "language_info": {
      "name": "python"
    }
  },
  "cells": [
    {
      "cell_type": "markdown",
      "metadata": {
        "id": "view-in-github",
        "colab_type": "text"
      },
      "source": [
        "<a href=\"https://colab.research.google.com/github/Swapnil1no1/1st/blob/main/code.ipynb\" target=\"_parent\"><img src=\"https://colab.research.google.com/assets/colab-badge.svg\" alt=\"Open In Colab\"/></a>"
      ]
    },
    {
      "cell_type": "code",
      "execution_count": 17,
      "metadata": {
        "colab": {
          "base_uri": "https://localhost:8080/"
        },
        "id": "dOSP3wdRdwXF",
        "outputId": "8a8ccab6-dd3d-454a-a841-0251063283ba"
      },
      "outputs": [
        {
          "output_type": "stream",
          "name": "stdout",
          "text": [
            "Enter your favourite movie name : Aliens\n",
            "Top 30 Movies Suggested for You : \n",
            "\n",
            "1 . Pulp Fiction\n",
            "2 . Clerks\n",
            "3 . Kill Bill: Vol. 1\n",
            "4 . Surrogates\n",
            "5 . Grown Ups 2\n",
            "6 . Identity\n",
            "7 . Unbreakable\n",
            "8 . Kill Bill: Vol. 2\n",
            "9 . Die Hard: With a Vengeance\n",
            "10 . Traffic\n",
            "11 . Blue Ruin\n",
            "12 . The 51st State\n",
            "13 . Basic\n",
            "14 . Be Cool\n",
            "15 . Crash\n",
            "16 . On the Outs\n",
            "17 . Jay and Silent Bob Strike Back\n",
            "18 . Paycheck\n",
            "19 . Playing for Keeps\n",
            "20 . Kindergarten Cop\n",
            "21 . The Producers\n",
            "22 . Gattaca\n",
            "23 . Con Air\n",
            "24 . Out of the Furnace\n",
            "25 . The Hateful Eight\n",
            "26 . Bringing Out the Dead\n",
            "27 . Disturbing Behavior\n",
            "28 . The Life Before Her Eyes\n",
            "29 . The Jackal\n",
            "30 . Menace II Society\n"
          ]
        }
      ],
      "source": [
        "\"\"\"## 1. **Import Library**  \"\"\"\n",
        "import pandas as pd\n",
        "import numpy as np\n",
        "\n",
        "\"\"\"## 2. **Import Dataset**\"\"\"\n",
        "df = pd.read_csv('https://raw.githubusercontent.com/Swapnil1no1/1st/main/Movies%20Recommendation.csv')\n",
        "df.head()\n",
        "\n",
        "\"\"\"## 3. **Get Feature Selection**\"\"\"\n",
        "df_features=df[['Movie_Genre','Movie_Keywords','Movie_Tagline','Movie_Cast','Movie_Director']].fillna('')\n",
        "df_features\n",
        "x = df_features['Movie_Genre'] + '' + df_features['Movie_Keywords'] + '' + df_features['Movie_Tagline'] + '' + df_features['Movie_Cast'] + '' + df_features['Movie_Director']\n",
        "\n",
        "\n",
        "\"\"\"##4. **Get Feature Text Conversion to Tokens**\"\"\"\n",
        "from sklearn.feature_extraction.text import TfidfVectorizer\n",
        "tfidf = TfidfVectorizer()\n",
        "x = tfidf.fit_transform(x)\n",
        "\n",
        "\"\"\"##**Similarity Score using Cosine Similarity**\"\"\"\n",
        "from sklearn.metrics.pairwise import cosine_similarity\n",
        "Similarity_Score = cosine_similarity(x)\n",
        "Similarity_Score\n",
        "\n",
        "\"\"\"##5. **Get Movie Name as Input from User and Vaidate for Closest Spelling**\"\"\"\n",
        "Favourite_Movie_Name = input('Enter your favourite movie name : ')\n",
        "All_Movies_title_List = df['Movie_Title'].tolist()\n",
        "\n",
        "import difflib\n",
        "Movie_Recommendation = difflib.get_close_matches(Favourite_Movie_Name,\n",
        "All_Movies_title_List)\n",
        "Close_Match = Movie_Recommendation[0]\n",
        "Index_of_Close_Match_Movie = df[df.Movie_Title == Close_Match]['Movie_ID'].values[0]\n",
        "Recommendation_Score = list(enumerate(Similarity_Score[Index_of_Close_Match_Movie]))\n",
        "\n",
        "\"\"\"##6. **Get Movies Sort Based Recommendation Score**\"\"\"\n",
        "Sorted_Similar_Movies = sorted(Recommendation_Score, key = lambda x:x[1], reverse = True)\n",
        "# print name of similar movies\n",
        "print('Top 30 Movies Suggested for You : \\n')\n",
        "i = 1\n",
        "for movie in Sorted_Similar_Movies:\n",
        "  index = movie[0]\n",
        "  title_from_index = df[df.index==index]['Movie_Title'].values[0]\n",
        "  if(i<31):\n",
        "    print(i, '.',title_from_index)\n",
        "    i+=1"
      ]
    }
  ]
}